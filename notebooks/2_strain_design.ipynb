{
 "cells": [
  {
   "cell_type": "markdown",
   "metadata": {},
   "source": [
    "# Rational Strain Design\n",
    "\n",
    "Author: Daniel Machado [(CC BY-SA 4.0)](http://creativecommons.org/licenses/by-sa/4.0/)\n",
    "\n",
    "- In this tutorial you will learn how to use metabolic models and flux balance analysis for rational strain design.\n",
    "- You will use the [ReFramed](https://github.com/cdanielmachado/reframed) and [MEWpy](https://github.com/BioSystemsUM/mewpy) python libraries. Please check their respective documentation for details.\n",
    "- If you haven't done so, you should try the [FBA tutorial](1_fba_intro.ipynb) first :)"
   ]
  },
  {
   "cell_type": "markdown",
   "metadata": {},
   "source": [
    "## Step 1: Loading a model stored in SBML format\n",
    "\n",
    "Again, we will use the central carbon metabolism model of *E. coli*."
   ]
  },
  {
   "cell_type": "code",
   "execution_count": null,
   "metadata": {},
   "outputs": [],
   "source": [
    "from reframed import load_cbmodel\n",
    "model = load_cbmodel('../files/e_coli_core.xml')"
   ]
  },
  {
   "cell_type": "markdown",
   "metadata": {},
   "source": [
    "## Step 2: Defining the problem\n",
    "\n",
    "Imagine you want to overproduce **succinate** under **anaerobic** conditions. \n",
    "\n",
    "Let's begin by completely removing oxygen from the growth medium and check how much succinate is overproduced (i.e. secreted) by the wild-type strain:"
   ]
  },
  {
   "cell_type": "code",
   "execution_count": null,
   "metadata": {},
   "outputs": [],
   "source": [
    "from reframed import FBA\n",
    "model.reactions.R_EX_o2_e.lb = 0\n",
    "solution = FBA(model)\n",
    "print(f\"Growth rate: {solution.fobj}\")\n",
    "print(f\"Succinate secretion: {solution.values['R_EX_succ_e']}\")"
   ]
  },
  {
   "cell_type": "markdown",
   "metadata": {},
   "source": [
    "As we can see, the wild-type strain is not secreting any succinate.\n",
    "\n",
    "We can also query the model with regard to the maximum theoretical production instead. We can do this by setting succinate secretion as our objective function in FBA:"
   ]
  },
  {
   "cell_type": "code",
   "execution_count": null,
   "metadata": {},
   "outputs": [],
   "source": [
    "solution = FBA(model, objective='R_EX_succ_e')\n",
    "print(f\"Succinate secretion: {solution.values['R_EX_succ_e']}\")"
   ]
  },
  {
   "cell_type": "markdown",
   "metadata": {},
   "source": [
    "To better understand the trade-off between growth and production we can look at the **production envelope**: "
   ]
  },
  {
   "cell_type": "code",
   "execution_count": null,
   "metadata": {},
   "outputs": [],
   "source": [
    "from reframed import plot_flux_envelope\n",
    "plot_flux_envelope(model, model.biomass_reaction, 'R_EX_succ_e')"
   ]
  },
  {
   "cell_type": "markdown",
   "metadata": {},
   "source": [
    "We can see there is a trade-off between growing and secreting succinate, evolution is not on our side."
   ]
  },
  {
   "cell_type": "markdown",
   "metadata": {},
   "source": [
    "## Step 3: Simulating multiple gene/reaction deletions"
   ]
  },
  {
   "cell_type": "markdown",
   "metadata": {},
   "source": [
    "We can try to re-direct metabolic fluxes using gene (or reaction) deletions.\n",
    "\n",
    "Let's start with a triple gene knockout:"
   ]
  },
  {
   "cell_type": "code",
   "execution_count": null,
   "metadata": {},
   "outputs": [],
   "source": [
    "from reframed import gene_knockout\n",
    "solution = gene_knockout(model, ['G_b0008', 'G_b2935', 'G_b4090'])\n",
    "\n",
    "print(f\"Growth rate: {solution.fobj}\")\n",
    "print(f\"Succinate secretion: {solution.values['R_EX_succ_e']}\")"
   ]
  },
  {
   "cell_type": "markdown",
   "metadata": {},
   "source": [
    "Well, that didn't seem to help. \n",
    "\n",
    "Let's try a quadruple reaction knockout this time."
   ]
  },
  {
   "cell_type": "code",
   "execution_count": null,
   "metadata": {},
   "outputs": [],
   "source": [
    "from reframed import reaction_knockout\n",
    "solution = reaction_knockout(model, ['R_PFL', 'R_LDH_D', 'R_ACALD', 'R_ACKr'])\n",
    "\n",
    "print(f\"Growth rate: {solution.fobj}\")\n",
    "print(f\"Succinate secretion: {solution.values['R_EX_succ_e']}\")"
   ]
  },
  {
   "cell_type": "markdown",
   "metadata": {},
   "source": [
    "Ok, that worked. But why? \n",
    "\n",
    "Let's look at the production envelope again:"
   ]
  },
  {
   "cell_type": "code",
   "execution_count": null,
   "metadata": {},
   "outputs": [],
   "source": [
    "knockouts = {'R_PFL':0, 'R_LDH_D':0, 'R_ACALD':0, 'R_ACKr':0}\n",
    "plot_flux_envelope(model, model.biomass_reaction, 'R_EX_succ_e', constraints=knockouts)"
   ]
  },
  {
   "cell_type": "markdown",
   "metadata": {},
   "source": [
    "This is what we call a growth-coupled design. This *E. coli* mutant **must** secrete succinate in order to grow.\n",
    "\n",
    "Let's see how this looks in terms of flux distribution."
   ]
  },
  {
   "cell_type": "code",
   "execution_count": null,
   "metadata": {},
   "outputs": [],
   "source": [
    "from reframed import fluxes2escher\n",
    "solution = FBA(model, constraints=knockouts)\n",
    "fluxes2escher(solution.values)"
   ]
  },
  {
   "cell_type": "markdown",
   "metadata": {},
   "source": [
    "## Step 4: Finding optimal sets of gene/reaction deletions using MEWpy"
   ]
  },
  {
   "cell_type": "markdown",
   "metadata": {},
   "source": [
    "Ok, but how did we know that particular combination of deletions would work? \n",
    "\n",
    "We can simply try to simulate all possible combinations of gene/reaction deletions, but this can explode very quickly. For instance, the latest E. coli model contains 1515 metabolic genes. That's a lot of simulations:\n",
    "\n",
    "- double deletions: $1.14 *10^6$\n",
    "- triple deletions: $5.78 *10^8$\n",
    "- quadruple deletions: $2.19 *10^{11}$\n",
    "- *etc*...\n",
    "\n",
    "When we encounter this kind of combinatorial optimization problem, we can apply [metaheuristics](https://en.wikipedia.org/wiki/Metaheuristic). This is a particular type of algorithms to solve optimization problems that try to find a **good enough** solution in a reasonable amount of time.\n",
    "\n",
    "![metaheuristics](../files/metaheuristics.png)\n",
    "Image source: wikipedia"
   ]
  },
  {
   "cell_type": "markdown",
   "metadata": {},
   "source": [
    "-------\n",
    "\n",
    "### MEWpy basics\n",
    "\n",
    "**MEWpy** is a strain design library for metabolic models that implements a few different metaheuristic optimization methods (take a look at the [documentation](https://mewpy.readthedocs.io/en/latest/main.html)).\n",
    "\n",
    "It supports the evaluation of multiple design objectives. We will begin by defining two objectives:\n",
    "\n",
    "* Maximize the flux of our target reaction (succinate production)\n",
    "* Maximize the Biomass-Product Coupled Yield (finds an optimal trade-off between growth and production)"
   ]
  },
  {
   "cell_type": "code",
   "execution_count": null,
   "metadata": {},
   "outputs": [],
   "source": [
    "from mewpy.optimization.evaluation import BPCY, TargetFlux\n",
    "\n",
    "model = load_cbmodel('../files/e_coli_core.xml')\n",
    "\n",
    "objectives = [\n",
    "    TargetFlux(\"R_EX_succ_e\"), \n",
    "    BPCY(model.biomass_reaction, \"R_EX_succ_e\")\n",
    "]"
   ]
  },
  {
   "cell_type": "markdown",
   "metadata": {},
   "source": [
    "Now we define our optimization problem:\n",
    "* Type of modifications we are searching for (we will use gene knockouts)\n",
    "* Environmental conditions (anaerobic growth)"
   ]
  },
  {
   "cell_type": "code",
   "execution_count": null,
   "metadata": {},
   "outputs": [],
   "source": [
    "from mewpy.problems import GKOProblem\n",
    "anaerobic = {'R_EX_o2_e': (0, 0)} \n",
    "\n",
    "problem = GKOProblem(model, fevaluation=objectives, envcond=anaerobic)\n",
    "\n",
    "# for reaction knockouts use RKOProblem instead\n",
    "#\n",
    "# from mewpy.problems import RKOProblem\n",
    "# problem = RKOProblem(model, fevaluation=objectives, envcond=anaerobic)"
   ]
  },
  {
   "cell_type": "markdown",
   "metadata": {},
   "source": [
    "And now we can run the optimization as an [evolutionary algorithm (EA)](https://en.wikipedia.org/wiki/Evolutionary_algorithm):\n",
    "\n",
    "> **Note**: These algorithms are stochastic, so if you don't get good results in the first attempt, try running a few more times or increase the number of generations."
   ]
  },
  {
   "cell_type": "code",
   "execution_count": null,
   "metadata": {
    "scrolled": true
   },
   "outputs": [],
   "source": [
    "from mewpy.optimization import EA\n",
    "solutions = EA(problem).run()\n",
    "\n",
    "# solutions = EA(problem, \n",
    "#                max_generations=100, # we can increase the number of generations for the EA\n",
    "#                population_size=100  # and we can also try to increase the population size\n",
    "#               ).run() # the computation time will increase proportionally (population * generations) "
   ]
  },
  {
   "cell_type": "markdown",
   "metadata": {},
   "source": [
    "By default, MEWpy calculates a population of the best 100 solutions.\n",
    "\n",
    "To make our life easier, let's convert the result to a Pandas DataFrame:"
   ]
  },
  {
   "cell_type": "code",
   "execution_count": null,
   "metadata": {
    "scrolled": true
   },
   "outputs": [],
   "source": [
    "import pandas as pd\n",
    "\n",
    "get_list = lambda x: [r_id[2:] for r_id in x.values]\n",
    "table = [[get_list(x), len(get_list(x)), x.fitness[0], x.fitness[1]] for x in solutions]\n",
    "df = pd.DataFrame(table, columns=[\"knockouts\", \"total\", \"rate\", \"BPCY\"])"
   ]
  },
  {
   "cell_type": "markdown",
   "metadata": {},
   "source": [
    "We can now sort the results, for instance by the total number of required knockouts:"
   ]
  },
  {
   "cell_type": "code",
   "execution_count": null,
   "metadata": {},
   "outputs": [],
   "source": [
    "df.sort_values(\"total\")"
   ]
  },
  {
   "cell_type": "markdown",
   "metadata": {},
   "source": [
    "We can also look at the trade-off between our two objectives (the so-called [Pareto front](https://en.wikipedia.org/wiki/Pareto_front)):"
   ]
  },
  {
   "cell_type": "code",
   "execution_count": null,
   "metadata": {},
   "outputs": [],
   "source": [
    "df.plot.scatter(\"rate\", \"BPCY\")"
   ]
  },
  {
   "cell_type": "markdown",
   "metadata": {},
   "source": [
    "> Which of these solutions would **you** implement in the lab ?"
   ]
  }
 ],
 "metadata": {
  "kernelspec": {
   "display_name": "Python 3 (ipykernel)",
   "language": "python",
   "name": "python3"
  },
  "language_info": {
   "codemirror_mode": {
    "name": "ipython",
    "version": 3
   },
   "file_extension": ".py",
   "mimetype": "text/x-python",
   "name": "python",
   "nbconvert_exporter": "python",
   "pygments_lexer": "ipython3",
   "version": "3.8.12"
  }
 },
 "nbformat": 4,
 "nbformat_minor": 4
}
