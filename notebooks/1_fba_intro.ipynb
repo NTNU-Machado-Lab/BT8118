{
 "cells": [
  {
   "cell_type": "markdown",
   "metadata": {},
   "source": [
    "# Introduction to Flux Balance Analysis\n",
    "\n",
    "Author: Daniel Machado, NTNU\n",
    "\n",
    "License: [(CC BY-SA 4.0)](http://creativecommons.org/licenses/by-sa/4.0/)\n",
    "\n",
    "In this tutorial you will learn how to perform flux balance analysis \n",
    "using a model of the central carbon metabolism of *E. coli*.\n",
    "\n",
    "This tutorial uses the **ReFramed** library. You can check the [online documentation](https://reframed.readthedocs.io) for more details."
   ]
  },
  {
   "cell_type": "markdown",
   "metadata": {},
   "source": [
    "### Step 1: Loading a model"
   ]
  },
  {
   "cell_type": "markdown",
   "metadata": {},
   "source": [
    "We begin by loading the model, which is stored in SBML format:"
   ]
  },
  {
   "cell_type": "code",
   "execution_count": 1,
   "metadata": {},
   "outputs": [],
   "source": [
    "from reframed import load_cbmodel\n",
    "model = load_cbmodel('../files/e_coli_core.xml')"
   ]
  },
  {
   "cell_type": "markdown",
   "metadata": {},
   "source": [
    "This is a very simple model, mostly used for educational purposes. \n",
    "\n",
    "Let's learn some details about the model:"
   ]
  },
  {
   "cell_type": "code",
   "execution_count": 2,
   "metadata": {},
   "outputs": [
    {
     "name": "stdout",
     "output_type": "stream",
     "text": [
      "Metabolites:\n",
      "e 20\n",
      "c 52\n",
      "\n",
      "Reactions:\n",
      "enzymatic 48\n",
      "transport 25\n",
      "exchange 20\n",
      "sink 0\n",
      "other 2\n"
     ]
    }
   ],
   "source": [
    "model.summary()"
   ]
  },
  {
   "cell_type": "markdown",
   "metadata": {},
   "source": [
    "### Step 2: Running an FBA simulation"
   ]
  },
  {
   "cell_type": "markdown",
   "metadata": {},
   "source": [
    "The most simple thing you can do with a constraint-based model is to run a flux balance analysis (FBA) simulation.\n",
    "\n",
    "> **Note:** unless you explicitely make some changes, the simulation will use the default objective function (biomass maximization) and environmental conditions (aerobic growth in M9 minimal medium with glucose) that came pre-defined in this model."
   ]
  },
  {
   "cell_type": "code",
   "execution_count": 3,
   "metadata": {},
   "outputs": [],
   "source": [
    "from reframed import FBA\n",
    "solution = FBA(model)"
   ]
  },
  {
   "cell_type": "markdown",
   "metadata": {},
   "source": [
    "The solution object contains the objective value (the growth rate in this case), and the respective flux distribution. "
   ]
  },
  {
   "cell_type": "code",
   "execution_count": 4,
   "metadata": {},
   "outputs": [
    {
     "name": "stdout",
     "output_type": "stream",
     "text": [
      "Objective: 0.8739215069684303\n",
      "Status: Optimal\n",
      "\n"
     ]
    }
   ],
   "source": [
    "print(solution)"
   ]
  },
  {
   "cell_type": "markdown",
   "metadata": {},
   "source": [
    "You can inspect all the fluxes, or select some you are interested in. Let's look at the uptake and secretion rates (which are combined in the form of *exchange* reactions)."
   ]
  },
  {
   "cell_type": "code",
   "execution_count": 5,
   "metadata": {},
   "outputs": [
    {
     "name": "stdout",
     "output_type": "stream",
     "text": [
      "R_EX_o2_e    -21.7995\n",
      "R_EX_glc__D_e -10\n",
      "R_EX_nh4_e   -4.76532\n",
      "R_EX_pi_e    -3.2149\n",
      "R_EX_h_e      17.5309\n",
      "R_EX_co2_e    22.8098\n",
      "R_EX_h2o_e    29.1758\n"
     ]
    }
   ],
   "source": [
    "solution.show_values(pattern=\"R_EX\", sort=True)"
   ]
  },
  {
   "cell_type": "markdown",
   "metadata": {},
   "source": [
    "We can see that *E. coli* is consuming glucose and oxygen and producing CO2."
   ]
  },
  {
   "cell_type": "markdown",
   "metadata": {},
   "source": [
    "### Step 3: Visualizing fluxes with Escher\n",
    "\n",
    "Escher is a really nice tool for displaying fluxes in a metabolic map. It makes your life easier, especially when comparing flux distributions after performing some perturbations (such as gene deletions or changes in the growth medium)."
   ]
  },
  {
   "cell_type": "code",
   "execution_count": 6,
   "metadata": {
    "tags": []
   },
   "outputs": [
    {
     "name": "stdout",
     "output_type": "stream",
     "text": [
      "Downloading Map from https://escher.github.io/1-0-0/6/maps/Escherichia%20coli/e_coli_core.Core%20metabolism.json\n"
     ]
    },
    {
     "data": {
      "application/vnd.jupyter.widget-view+json": {
       "model_id": "d913da685ba54019afdbd15625da5aba",
       "version_major": 2,
       "version_minor": 0
      },
      "text/plain": [
       "Builder(reaction_data={'ACALD': 0.0, 'ACALDt': 0.0, 'ACKr': 0.0, 'ACONTa': 6.007249575350336, 'ACONTb': 6.0072…"
      ]
     },
     "metadata": {},
     "output_type": "display_data"
    }
   ],
   "source": [
    "from reframed import fluxes2escher\n",
    "fluxes2escher(solution.values)"
   ]
  },
  {
   "cell_type": "markdown",
   "metadata": {
    "tags": []
   },
   "source": [
    "### Step 4: Changing the environmental conditions\n",
    "\n",
    "You can change growth conditions either by modifying the flux bounds of the reactions directly in the model or by supplying those constraints as an argument to the FBA simulation method.\n",
    "\n",
    "Let's observe what happens if we remove oxygen uptake to simulate anaerobic growth:"
   ]
  },
  {
   "cell_type": "code",
   "execution_count": 7,
   "metadata": {},
   "outputs": [],
   "source": [
    "solution2 = FBA(model, constraints={'R_EX_o2_e':0})"
   ]
  },
  {
   "cell_type": "code",
   "execution_count": 8,
   "metadata": {},
   "outputs": [
    {
     "name": "stdout",
     "output_type": "stream",
     "text": [
      "Objective: 0.2116629497353106\n",
      "Status: Optimal\n",
      "\n"
     ]
    }
   ],
   "source": [
    "print(solution2)"
   ]
  },
  {
   "cell_type": "code",
   "execution_count": 9,
   "metadata": {},
   "outputs": [
    {
     "name": "stdout",
     "output_type": "stream",
     "text": [
      "R_EX_glc__D_e -10\n",
      "R_EX_h2o_e   -7.1158\n",
      "R_EX_nh4_e   -1.15416\n",
      "R_EX_pi_e    -0.778644\n",
      "R_EX_co2_e   -0.378178\n",
      "R_EX_etoh_e   8.27946\n",
      "R_EX_ac_e     8.50359\n",
      "R_EX_for_e    17.8047\n",
      "R_EX_h_e      30.5542\n"
     ]
    }
   ],
   "source": [
    "solution2.show_values(pattern=\"R_EX\", sort=True)"
   ]
  },
  {
   "cell_type": "markdown",
   "metadata": {},
   "source": [
    "As expected, *E. coli* switched to a fermentation mode, which resulted in the secretion of fermentation products and a decrease in growth rate.\n",
    "\n",
    "Again, we can see it better by displaying the flux distribution in a metabolic map."
   ]
  },
  {
   "cell_type": "code",
   "execution_count": 10,
   "metadata": {},
   "outputs": [
    {
     "name": "stdout",
     "output_type": "stream",
     "text": [
      "Downloading Map from https://escher.github.io/1-0-0/6/maps/Escherichia%20coli/e_coli_core.Core%20metabolism.json\n"
     ]
    },
    {
     "data": {
      "application/vnd.jupyter.widget-view+json": {
       "model_id": "e9047c4da89848678b7bb76ba6ee1956",
       "version_major": 2,
       "version_minor": 0
      },
      "text/plain": [
       "Builder(reaction_data={'ACALD': -8.279455380486581, 'ACALDt': 0.0, 'ACKr': -8.503585277961301, 'ACONTa': 0.228…"
      ]
     },
     "metadata": {},
     "output_type": "display_data"
    }
   ],
   "source": [
    "fluxes2escher(solution2.values)"
   ]
  },
  {
   "cell_type": "markdown",
   "metadata": {},
   "source": []
  },
  {
   "cell_type": "markdown",
   "metadata": {},
   "source": [
    "### Step 5: Comparing simulations with experimental data"
   ]
  },
  {
   "cell_type": "code",
   "execution_count": 11,
   "metadata": {},
   "outputs": [],
   "source": [
    "import pandas as pd\n",
    "fluxomics = pd.read_csv('../files/gerosa2015.csv', index_col=0)"
   ]
  },
  {
   "cell_type": "code",
   "execution_count": 12,
   "metadata": {},
   "outputs": [],
   "source": [
    "uptake_reactions = {\n",
    "    'Acetate': 'R_EX_ac_e',\n",
    "    'Fructose': 'R_EX_fru_e',\n",
    "    'Glucose': 'R_EX_glc__D_e',\n",
    "    'Pyruvate': 'R_EX_pyr_e',\n",
    "    'Succinate': 'R_EX_succ_e',\n",
    "}\n",
    "\n",
    "growth_rates = {\n",
    "    'Acetate': 0.29,\n",
    "    'Fructose': 0.49,\n",
    "    'Glucose': 0.65,\n",
    "    'Pyruvate': 0.39,\n",
    "    'Succinate': 0.51,\n",
    "}"
   ]
  },
  {
   "cell_type": "code",
   "execution_count": 13,
   "metadata": {},
   "outputs": [
    {
     "name": "stdout",
     "output_type": "stream",
     "text": [
      "Condition \tGrowth \tPredicted\n",
      "Acetate \t0.29 \t0.25\n",
      "Fructose \t0.49 \t0.72\n",
      "Glucose \t0.65 \t0.84\n",
      "Pyruvate \t0.39 \t0.84\n",
      "Succinate \t0.51 \t0.66\n"
     ]
    }
   ],
   "source": [
    "model.reactions.R_EX_glc__D_e.lb = 0\n",
    "\n",
    "simulated = {}\n",
    "print('Condition \\tGrowth \\tPredicted')\n",
    "\n",
    "for condition, rxn_id in uptake_reactions.items():\n",
    "    uptake_rate = fluxomics.loc[rxn_id, condition]\n",
    "    solution = FBA(model, constraints={rxn_id: uptake_rate})\n",
    "    simulated[f'{condition}_sim'] = solution.values\n",
    "    print(f'{condition} \\t{growth_rates[condition]} \\t{solution.fobj:.2f}')\n",
    "    \n",
    "combined = pd.concat([fluxomics, pd.DataFrame(simulated)], axis=1, join='inner')"
   ]
  },
  {
   "cell_type": "code",
   "execution_count": 14,
   "metadata": {},
   "outputs": [
    {
     "name": "stdout",
     "output_type": "stream",
     "text": [
      "Condition \tGrowth \tPredicted\n",
      "Acetate \t0.29 \t0.25\n",
      "Fructose \t0.49 \t0.64\n",
      "Glucose \t0.65 \t0.69\n",
      "Pyruvate \t0.39 \t0.58\n",
      "Succinate \t0.51 \t0.58\n"
     ]
    }
   ],
   "source": [
    "simulated = {}\n",
    "print('Condition \\tGrowth \\tPredicted')\n",
    "\n",
    "for condition, rxn_id in uptake_reactions.items():\n",
    "    constraints = {\n",
    "        rxn_id: fluxomics.loc[rxn_id, condition],\n",
    "        'R_EX_ac_e': fluxomics.loc['R_EX_ac_e', condition],\n",
    "    }\n",
    "    solution = FBA(model, constraints=constraints)\n",
    "    simulated[f'{condition}_sim'] = solution.values\n",
    "    print(f'{condition} \\t{growth_rates[condition]} \\t{solution.fobj:.2f}')\n",
    "    \n",
    "combined2 = pd.concat([fluxomics, pd.DataFrame(simulated)], axis=1, join='inner')"
   ]
  },
  {
   "cell_type": "code",
   "execution_count": 15,
   "metadata": {},
   "outputs": [
    {
     "data": {
      "image/png": "[encoded data removed]",
      "text/plain": [
       "<Figure size 1080x216 with 5 Axes>"
      ]
     },
     "metadata": {
      "needs_background": "light"
     },
     "output_type": "display_data"
    }
   ],
   "source": [
    "import matplotlib.pyplot as plt\n",
    "\n",
    "fig, axs = plt.subplots(1, 5, figsize=(15, 3))\n",
    "\n",
    "for i, condition in enumerate(uptake_reactions):\n",
    "    combined.plot.scatter(condition, f'{condition}_sim', ax=axs[i])\n",
    "    axs[i].plot([-20, 20], [-20, 20], 'k--', alpha=0.3)\n",
    "\n",
    "fig.tight_layout()"
   ]
  },
  {
   "cell_type": "code",
   "execution_count": 19,
   "metadata": {},
   "outputs": [
    {
     "data": {
      "image/png": "[encoded data removed]",
      "text/plain": [
       "<Figure size 1080x216 with 5 Axes>"
      ]
     },
     "metadata": {
      "needs_background": "light"
     },
     "output_type": "display_data"
    }
   ],
   "source": [
    "fig, axs = plt.subplots(1, 5, figsize=(15, 3))\n",
    "\n",
    "for i, condition in enumerate(uptake_reactions):\n",
    "    combined2.plot.scatter(condition, f'{condition}_sim', ax=axs[i])\n",
    "    axs[i].plot([-20, 20], [-20, 20], 'k--', alpha=0.3)\n",
    "\n",
    "fig.tight_layout()"
   ]
  },
  {
   "cell_type": "code",
   "execution_count": null,
   "metadata": {},
   "outputs": [],
   "source": []
  }
 ],
 "metadata": {
  "kernelspec": {
   "display_name": "Python 3",
   "language": "python",
   "name": "python3"
  },
  "language_info": {
   "codemirror_mode": {
    "name": "ipython",
    "version": 3
   },
   "file_extension": ".py",
   "mimetype": "text/x-python",
   "name": "python",
   "nbconvert_exporter": "python",
   "pygments_lexer": "ipython3",
   "version": "3.8.8"
  }
 },
 "nbformat": 4,
 "nbformat_minor": 4
}
