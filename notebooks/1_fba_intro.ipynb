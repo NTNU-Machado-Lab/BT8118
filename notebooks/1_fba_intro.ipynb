{
 "cells": [
  {
   "cell_type": "markdown",
   "metadata": {},
   "source": [
    "# Introduction to Flux Balance Analysis\n",
    "\n",
    "Author: Daniel Machado, NTNU\n",
    "\n",
    "License: [CC BY-SA 4.0](http://creativecommons.org/licenses/by-sa/4.0/)\n",
    "\n",
    "-------\n",
    "\n",
    "In this tutorial:\n",
    "\n",
    "- You will learn how to perform flux balance analysis \n",
    "using a model of the [central carbon metabolism of *E. coli*](https://journals.asm.org/doi/10.1128/ecosalplus.10.2.1). This is a very simple model, mostly used for educational purposes.\n",
    "\n",
    "- You will use the [ReFramed](https://github.com/cdanielmachado/reframed) python library for metabolic modeling. You can check the [online documentation](https://reframed.readthedocs.io) for more details.\n",
    "\n",
    "- You will execute pre-defined pieces of code, but you are strongly encouraged to modify the code and explore on your own."
   ]
  },
  {
   "cell_type": "markdown",
   "metadata": {},
   "source": [
    "## Step 1: Loading a model"
   ]
  },
  {
   "cell_type": "markdown",
   "metadata": {},
   "source": [
    "We begin by loading the model, which is stored in SBML format:"
   ]
  },
  {
   "cell_type": "code",
   "execution_count": null,
   "metadata": {},
   "outputs": [],
   "source": [
    "from reframed import load_cbmodel\n",
    "model = load_cbmodel('../files/e_coli_core.xml')"
   ]
  },
  {
   "cell_type": "markdown",
   "metadata": {},
   "source": [
    "Let's learn some details about the model:"
   ]
  },
  {
   "cell_type": "code",
   "execution_count": null,
   "metadata": {},
   "outputs": [],
   "source": [
    "model.summary()"
   ]
  },
  {
   "cell_type": "markdown",
   "metadata": {},
   "source": [
    "## Step 2: Running an FBA simulation"
   ]
  },
  {
   "cell_type": "markdown",
   "metadata": {},
   "source": [
    "The most simple thing you can do with a constraint-based model is to run a flux balance analysis (FBA) simulation.\n",
    "\n",
    "> **Note:** unless you explicitely make some changes, the simulation will use the default objective function (biomass maximization) and environmental conditions (aerobic growth in M9 minimal medium with glucose) that came pre-defined in this model."
   ]
  },
  {
   "cell_type": "code",
   "execution_count": null,
   "metadata": {},
   "outputs": [],
   "source": [
    "from reframed import FBA\n",
    "solution = FBA(model)"
   ]
  },
  {
   "cell_type": "markdown",
   "metadata": {},
   "source": [
    "The solution object contains the objective value (the growth rate in this case), and the respective flux distribution. "
   ]
  },
  {
   "cell_type": "code",
   "execution_count": null,
   "metadata": {},
   "outputs": [],
   "source": [
    "print(solution)"
   ]
  },
  {
   "cell_type": "markdown",
   "metadata": {},
   "source": [
    "You can inspect all the fluxes, or select some you are interested in. Let's look at the uptake and secretion rates (which are combined in the form of *exchange* reactions)."
   ]
  },
  {
   "cell_type": "code",
   "execution_count": null,
   "metadata": {},
   "outputs": [],
   "source": [
    "solution.show_values(pattern=\"R_EX\", sort=True)"
   ]
  },
  {
   "cell_type": "markdown",
   "metadata": {},
   "source": [
    "We can see that *E. coli* is consuming glucose and oxygen and producing CO2."
   ]
  },
  {
   "cell_type": "markdown",
   "metadata": {},
   "source": [
    "## Step 3: Visualizing fluxes with Escher\n",
    "\n",
    "Escher is a really nice tool for displaying fluxes in a metabolic map. It makes your life easier, especially when comparing flux distributions after performing some perturbations (such as gene deletions or changes in the growth medium)."
   ]
  },
  {
   "cell_type": "code",
   "execution_count": null,
   "metadata": {
    "tags": []
   },
   "outputs": [],
   "source": [
    "from reframed import fluxes2escher\n",
    "fluxes2escher(solution.values)"
   ]
  },
  {
   "cell_type": "markdown",
   "metadata": {
    "tags": []
   },
   "source": [
    "## Step 4: Changing the environmental conditions\n",
    "\n",
    "You can change growth conditions either by modifying the flux bounds of the reactions directly in the model or by supplying those constraints as an argument to the FBA simulation method.\n",
    "\n",
    "Let's observe what happens if we remove oxygen uptake to simulate anaerobic growth:"
   ]
  },
  {
   "cell_type": "code",
   "execution_count": null,
   "metadata": {},
   "outputs": [],
   "source": [
    "solution2 = FBA(model, constraints={'R_EX_o2_e':0})"
   ]
  },
  {
   "cell_type": "code",
   "execution_count": null,
   "metadata": {},
   "outputs": [],
   "source": [
    "print(solution2)"
   ]
  },
  {
   "cell_type": "code",
   "execution_count": null,
   "metadata": {},
   "outputs": [],
   "source": [
    "solution2.show_values(pattern=\"R_EX\", sort=True)"
   ]
  },
  {
   "cell_type": "markdown",
   "metadata": {},
   "source": [
    "As expected, *E. coli* switched to a fermentation mode, which resulted in the secretion of fermentation products and a decrease in growth rate.\n",
    "\n",
    "Again, we can see it better by displaying the flux distribution in a metabolic map."
   ]
  },
  {
   "cell_type": "code",
   "execution_count": null,
   "metadata": {},
   "outputs": [],
   "source": [
    "fluxes2escher(solution2.values)"
   ]
  },
  {
   "cell_type": "markdown",
   "metadata": {},
   "source": [
    "## Step 5: Comparing simulations with experimental data\n",
    "\n",
    "Ok, so hopefully you are now convinced that metabolic models and FBA simulations are easy and fun to play with. But can we really trust these flux predictions? \n",
    "\n",
    "There is only one way to know. Let's compare them with experimentally measured fluxes. \n",
    "\n",
    "[Gerosa and co-workers](https://www.sciencedirect.com/science/article/pii/S2405471215001465) have measured fluxes in *E. coli* growing with different carbon sources. \n",
    "\n",
    "![Flux data](../files/gerosa2015.png)\n",
    "\n"
   ]
  },
  {
   "cell_type": "markdown",
   "metadata": {},
   "source": [
    "Let's load the fluxomics data that has been stored as a CSV file..."
   ]
  },
  {
   "cell_type": "code",
   "execution_count": null,
   "metadata": {},
   "outputs": [],
   "source": [
    "import pandas as pd\n",
    "fluxomics = pd.read_csv('../files/gerosa2015.csv', index_col=0)\n",
    "\n",
    "fluxomics.sample(5) # print 5 random entries"
   ]
  },
  {
   "cell_type": "markdown",
   "metadata": {},
   "source": [
    "We will constrain the model using only the respective uptake rate for each substrate and see how well it predicts the growth rate and all the other fluxes.\n",
    "\n",
    "Unfortunately, our model only contains 5 of the 8 substrates used in the paper."
   ]
  },
  {
   "cell_type": "code",
   "execution_count": null,
   "metadata": {},
   "outputs": [],
   "source": [
    "uptake_reactions = {\n",
    "    'Acetate': 'R_EX_ac_e',\n",
    "    'Fructose': 'R_EX_fru_e',\n",
    "    'Glucose': 'R_EX_glc__D_e',\n",
    "    'Pyruvate': 'R_EX_pyr_e',\n",
    "    'Succinate': 'R_EX_succ_e',\n",
    "}\n",
    "\n",
    "growth_rates = {\n",
    "    'Acetate': 0.29,\n",
    "    'Fructose': 0.49,\n",
    "    'Glucose': 0.65,\n",
    "    'Pyruvate': 0.39,\n",
    "    'Succinate': 0.51,\n",
    "}"
   ]
  },
  {
   "cell_type": "markdown",
   "metadata": {},
   "source": [
    "We need to remove glucose from the pre-defined medium, by setting the lower bound of the exchange reaction to zero: "
   ]
  },
  {
   "cell_type": "code",
   "execution_count": null,
   "metadata": {},
   "outputs": [],
   "source": [
    "model.reactions.R_EX_glc__D_e.lb = 0"
   ]
  },
  {
   "cell_type": "markdown",
   "metadata": {},
   "source": [
    "Now let's run simulations for all the five conditions. \n",
    "\n",
    "> The code below might look a bit complicated. Don't worry about that for now."
   ]
  },
  {
   "cell_type": "code",
   "execution_count": null,
   "metadata": {},
   "outputs": [],
   "source": [
    "simulated = {}\n",
    "print('Condition \\tGrowth \\tPredicted')\n",
    "\n",
    "for condition, rxn_id in uptake_reactions.items():\n",
    "    uptake_rate = fluxomics.loc[rxn_id, condition]\n",
    "    solution = FBA(model, constraints={rxn_id: uptake_rate})\n",
    "    simulated[f'{condition}_sim'] = solution.values\n",
    "    print(f'{condition} \\t{growth_rates[condition]} \\t{solution.fobj:.2f}')\n",
    "    \n",
    "combined = pd.concat([fluxomics, pd.DataFrame(simulated)], axis=1, join='inner')"
   ]
  },
  {
   "cell_type": "markdown",
   "metadata": {},
   "source": [
    "It seems that, in general, the model predicted higher growth rates than what was measured. \n",
    "\n",
    "> Why do you think this has happened?\n",
    "\n",
    "One of the limitations of FBA is that it does not predict overflow metabolism, unless we explicitly add additional constraints.\n",
    "\n",
    "So let's now additionally constrain the acetate secretion rate as well and see if our predictions improve."
   ]
  },
  {
   "cell_type": "code",
   "execution_count": null,
   "metadata": {},
   "outputs": [],
   "source": [
    "simulated = {}\n",
    "print('Condition \\tGrowth \\tPredicted')\n",
    "\n",
    "for condition, rxn_id in uptake_reactions.items():\n",
    "    constraints = {\n",
    "        rxn_id: fluxomics.loc[rxn_id, condition],\n",
    "        'R_EX_ac_e': fluxomics.loc['R_EX_ac_e', condition],\n",
    "    }\n",
    "    solution = FBA(model, constraints=constraints)\n",
    "    simulated[f'{condition}_sim'] = solution.values\n",
    "    print(f'{condition} \\t{growth_rates[condition]} \\t{solution.fobj:.2f}')\n",
    "    \n",
    "combined2 = pd.concat([fluxomics, pd.DataFrame(simulated)], axis=1, join='inner')"
   ]
  },
  {
   "cell_type": "markdown",
   "metadata": {},
   "source": [
    "There is some improvement in the prediction of growth rates. But what about the fluxes? \n",
    "How well are they predicted, and does this also improve when we constrain acetate secretion?\n",
    "\n",
    "The code below plots measured vs predicted fluxes, before and after constraining acetate secretion."
   ]
  },
  {
   "cell_type": "code",
   "execution_count": null,
   "metadata": {},
   "outputs": [],
   "source": [
    "import matplotlib.pyplot as plt\n",
    "\n",
    "fig, axs = plt.subplots(2, 5, figsize=(15, 6))\n",
    "\n",
    "for i, condition in enumerate(uptake_reactions):\n",
    "    combined.plot.scatter(condition, f'{condition}_sim', ax=axs[0,i])\n",
    "    axs[0,i].plot([-20, 20], [-20, 20], 'k--', alpha=0.3)\n",
    "    \n",
    "    combined2.plot.scatter(condition, f'{condition}_sim', ax=axs[1,i])\n",
    "    axs[1,i].plot([-20, 20], [-20, 20], 'k--', alpha=0.3)\n",
    "\n",
    "fig.tight_layout()"
   ]
  },
  {
   "cell_type": "markdown",
   "metadata": {},
   "source": [
    "You have reached the end of this tutorial. Feel free to go back and try different things."
   ]
  },
  {
   "cell_type": "code",
   "execution_count": null,
   "metadata": {},
   "outputs": [],
   "source": []
  }
 ],
 "metadata": {
  "kernelspec": {
   "display_name": "Python 3 (ipykernel)",
   "language": "python",
   "name": "python3"
  },
  "language_info": {
   "codemirror_mode": {
    "name": "ipython",
    "version": 3
   },
   "file_extension": ".py",
   "mimetype": "text/x-python",
   "name": "python",
   "nbconvert_exporter": "python",
   "pygments_lexer": "ipython3",
   "version": "3.8.12"
  }
 },
 "nbformat": 4,
 "nbformat_minor": 4
}
