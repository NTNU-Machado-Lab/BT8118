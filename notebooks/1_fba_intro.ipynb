{
 "cells": [
  {
   "cell_type": "markdown",
   "metadata": {},
   "source": [
    "# Introduction to Flux Balance Analysis\n",
    "\n",
    "Author: Daniel Machado, NTNU\n",
    "\n",
    "License: [CC BY-SA 4.0](http://creativecommons.org/licenses/by-sa/4.0/)\n",
    "\n",
    "-------\n",
    "\n",
    "In this tutorial:\n",
    "\n",
    "- You will learn how to perform flux balance analysis \n",
    "using a model of the [central carbon metabolism of *E. coli*](https://journals.asm.org/doi/10.1128/ecosalplus.10.2.1). This is a very simple model, mostly used for educational purposes.\n",
    "\n",
    "- You will use the [ReFramed](https://github.com/cdanielmachado/reframed) python library for metabolic modeling. You can check the [online documentation](https://reframed.readthedocs.io) for more details.\n",
    "\n",
    "- You will execute pre-defined pieces of code, but you are strongly encouraged to modify the code and explore on your own."
   ]
  },
  {
   "cell_type": "markdown",
   "metadata": {},
   "source": [
    "## Step 1: Loading a model"
   ]
  },
  {
   "cell_type": "markdown",
   "metadata": {},
   "source": [
    "We begin by loading the model, which is stored in SBML format:"
   ]
  },
  {
   "cell_type": "code",
   "execution_count": 1,
   "metadata": {},
   "outputs": [],
   "source": [
    "from reframed import load_cbmodel\n",
    "model = load_cbmodel('../files/e_coli_core.xml')"
   ]
  },
  {
   "cell_type": "markdown",
   "metadata": {},
   "source": [
    "Let's learn some details about the model:"
   ]
  },
  {
   "cell_type": "code",
   "execution_count": 2,
   "metadata": {},
   "outputs": [
    {
     "name": "stdout",
     "output_type": "stream",
     "text": [
      "Metabolites:\n",
      "e 20\n",
      "c 52\n",
      "\n",
      "Reactions:\n",
      "enzymatic 48\n",
      "transport 25\n",
      "exchange 20\n",
      "sink 0\n",
      "other 2\n"
     ]
    }
   ],
   "source": [
    "model.summary()"
   ]
  },
  {
   "cell_type": "markdown",
   "metadata": {},
   "source": [
    "## Step 2: Running an FBA simulation"
   ]
  },
  {
   "cell_type": "markdown",
   "metadata": {},
   "source": [
    "The most simple thing you can do with a constraint-based model is to run a flux balance analysis (FBA) simulation.\n",
    "\n",
    "> **Note:** unless you explicitely make some changes, the simulation will use the default objective function (biomass maximization) and environmental conditions (aerobic growth in M9 minimal medium with glucose) that came pre-defined in this model."
   ]
  },
  {
   "cell_type": "code",
   "execution_count": 3,
   "metadata": {},
   "outputs": [],
   "source": [
    "from reframed import FBA\n",
    "solution = FBA(model)"
   ]
  },
  {
   "cell_type": "markdown",
   "metadata": {},
   "source": [
    "The solution object contains the objective value (the growth rate in this case), and the respective flux distribution. "
   ]
  },
  {
   "cell_type": "code",
   "execution_count": 4,
   "metadata": {},
   "outputs": [
    {
     "name": "stdout",
     "output_type": "stream",
     "text": [
      "Objective: 0.8739215069684303\n",
      "Status: Optimal\n",
      "\n"
     ]
    }
   ],
   "source": [
    "print(solution)"
   ]
  },
  {
   "cell_type": "markdown",
   "metadata": {},
   "source": [
    "You can inspect all the fluxes, or select some you are interested in. Let's look at the uptake and secretion rates (which are combined in the form of *exchange* reactions)."
   ]
  },
  {
   "cell_type": "code",
   "execution_count": 5,
   "metadata": {},
   "outputs": [
    {
     "name": "stdout",
     "output_type": "stream",
     "text": [
      "R_EX_o2_e    -21.7995\n",
      "R_EX_glc__D_e -10\n",
      "R_EX_nh4_e   -4.76532\n",
      "R_EX_pi_e    -3.2149\n",
      "R_EX_h_e      17.5309\n",
      "R_EX_co2_e    22.8098\n",
      "R_EX_h2o_e    29.1758\n"
     ]
    }
   ],
   "source": [
    "solution.show_values(pattern=\"R_EX\", sort=True)"
   ]
  },
  {
   "cell_type": "markdown",
   "metadata": {},
   "source": [
    "We can see that *E. coli* is consuming glucose and oxygen and producing CO2."
   ]
  },
  {
   "cell_type": "markdown",
   "metadata": {},
   "source": [
    "## Step 3: Visualizing fluxes with Escher\n",
    "\n",
    "Escher is a really nice tool for displaying fluxes in a metabolic map. It makes your life easier, especially when comparing flux distributions after performing some perturbations (such as gene deletions or changes in the growth medium)."
   ]
  },
  {
   "cell_type": "code",
   "execution_count": 6,
   "metadata": {
    "tags": []
   },
   "outputs": [
    {
     "name": "stdout",
     "output_type": "stream",
     "text": [
      "Downloading Map from https://escher.github.io/1-0-0/6/maps/Escherichia%20coli/e_coli_core.Core%20metabolism.json\n"
     ]
    },
    {
     "data": {
      "application/vnd.jupyter.widget-view+json": {
       "model_id": "1e3bd2bbff314aafb6fcbbae9fa6b047",
       "version_major": 2,
       "version_minor": 0
      },
      "text/plain": [
       "Builder(reaction_data={'ACALD': 0.0, 'ACALDt': 0.0, 'ACKr': 0.0, 'ACONTa': 6.007249575350336, 'ACONTb': 6.0072…"
      ]
     },
     "metadata": {},
     "output_type": "display_data"
    }
   ],
   "source": [
    "from reframed import fluxes2escher\n",
    "fluxes2escher(solution.values)"
   ]
  },
  {
   "cell_type": "markdown",
   "metadata": {
    "tags": []
   },
   "source": [
    "## Step 4: Changing the environmental conditions\n",
    "\n",
    "You can change growth conditions either by modifying the flux bounds of the reactions directly in the model or by supplying those constraints as an argument to the FBA simulation method.\n",
    "\n",
    "Let's observe what happens if we remove oxygen uptake to simulate anaerobic growth:"
   ]
  },
  {
   "cell_type": "code",
   "execution_count": 7,
   "metadata": {},
   "outputs": [],
   "source": [
    "solution2 = FBA(model, constraints={'R_EX_o2_e':0})"
   ]
  },
  {
   "cell_type": "code",
   "execution_count": 8,
   "metadata": {},
   "outputs": [
    {
     "name": "stdout",
     "output_type": "stream",
     "text": [
      "Objective: 0.2116629497353106\n",
      "Status: Optimal\n",
      "\n"
     ]
    }
   ],
   "source": [
    "print(solution2)"
   ]
  },
  {
   "cell_type": "code",
   "execution_count": 9,
   "metadata": {},
   "outputs": [
    {
     "name": "stdout",
     "output_type": "stream",
     "text": [
      "R_EX_glc__D_e -10\n",
      "R_EX_h2o_e   -7.1158\n",
      "R_EX_nh4_e   -1.15416\n",
      "R_EX_pi_e    -0.778644\n",
      "R_EX_co2_e   -0.378178\n",
      "R_EX_etoh_e   8.27946\n",
      "R_EX_ac_e     8.50359\n",
      "R_EX_for_e    17.8047\n",
      "R_EX_h_e      30.5542\n"
     ]
    }
   ],
   "source": [
    "solution2.show_values(pattern=\"R_EX\", sort=True)"
   ]
  },
  {
   "cell_type": "markdown",
   "metadata": {},
   "source": [
    "As expected, *E. coli* switched to a fermentation mode, which resulted in the secretion of fermentation products and a decrease in growth rate.\n",
    "\n",
    "Again, we can see it better by displaying the flux distribution in a metabolic map."
   ]
  },
  {
   "cell_type": "code",
   "execution_count": 10,
   "metadata": {},
   "outputs": [
    {
     "name": "stdout",
     "output_type": "stream",
     "text": [
      "Downloading Map from https://escher.github.io/1-0-0/6/maps/Escherichia%20coli/e_coli_core.Core%20metabolism.json\n"
     ]
    },
    {
     "data": {
      "application/vnd.jupyter.widget-view+json": {
       "model_id": "7b76598470bb49cfb953e38815de331c",
       "version_major": 2,
       "version_minor": 0
      },
      "text/plain": [
       "Builder(reaction_data={'ACALD': -8.279455380486581, 'ACALDt': 0.0, 'ACKr': -8.503585277961301, 'ACONTa': 0.228…"
      ]
     },
     "metadata": {},
     "output_type": "display_data"
    }
   ],
   "source": [
    "fluxes2escher(solution2.values)"
   ]
  },
  {
   "cell_type": "markdown",
   "metadata": {},
   "source": [
    "## Step 5: Comparing simulations with experimental data\n",
    "\n",
    "Ok, so hopefully you are now convinced that metabolic models and FBA simulations are easy and fun to play with. But can we really trust these flux predictions? \n",
    "\n",
    "There is only one way to know. Let's compare them with experimentally measured fluxes. \n",
    "\n",
    "[Gerosa and co-workers](https://www.sciencedirect.com/science/article/pii/S2405471215001465) have measured fluxes in *E. coli* growing with different carbon sources. \n",
    "\n",
    "![Flux data](../files/gerosa2015.png)\n",
    "\n"
   ]
  },
  {
   "cell_type": "markdown",
   "metadata": {},
   "source": [
    "Let's load the fluxomics data that has been stored as a CSV file..."
   ]
  },
  {
   "cell_type": "code",
   "execution_count": 19,
   "metadata": {},
   "outputs": [
    {
     "data": {
      "text/html": [
       "<div>\n",
       "<style scoped>\n",
       "    .dataframe tbody tr th:only-of-type {\n",
       "        vertical-align: middle;\n",
       "    }\n",
       "\n",
       "    .dataframe tbody tr th {\n",
       "        vertical-align: top;\n",
       "    }\n",
       "\n",
       "    .dataframe thead th {\n",
       "        text-align: right;\n",
       "    }\n",
       "</style>\n",
       "<table border=\"1\" class=\"dataframe\">\n",
       "  <thead>\n",
       "    <tr style=\"text-align: right;\">\n",
       "      <th></th>\n",
       "      <th>Acetate</th>\n",
       "      <th>Fructose</th>\n",
       "      <th>Galactose</th>\n",
       "      <th>Glucose</th>\n",
       "      <th>Glycerol</th>\n",
       "      <th>Gluconate</th>\n",
       "      <th>Pyruvate</th>\n",
       "      <th>Succinate</th>\n",
       "    </tr>\n",
       "  </thead>\n",
       "  <tbody>\n",
       "    <tr>\n",
       "      <th>R_GND</th>\n",
       "      <td>2.586719</td>\n",
       "      <td>6.171283</td>\n",
       "      <td>0.418682</td>\n",
       "      <td>2.832284</td>\n",
       "      <td>3.411510</td>\n",
       "      <td>1.464963</td>\n",
       "      <td>0.876802</td>\n",
       "      <td>4.907821</td>\n",
       "    </tr>\n",
       "    <tr>\n",
       "      <th>R_EX_succ_e</th>\n",
       "      <td>0.000000</td>\n",
       "      <td>0.000000</td>\n",
       "      <td>0.000000</td>\n",
       "      <td>0.000000</td>\n",
       "      <td>0.000000</td>\n",
       "      <td>0.000000</td>\n",
       "      <td>0.000000</td>\n",
       "      <td>-15.902000</td>\n",
       "    </tr>\n",
       "    <tr>\n",
       "      <th>R_CS</th>\n",
       "      <td>8.834019</td>\n",
       "      <td>4.568329</td>\n",
       "      <td>1.520963</td>\n",
       "      <td>2.977971</td>\n",
       "      <td>2.464836</td>\n",
       "      <td>1.154034</td>\n",
       "      <td>8.081921</td>\n",
       "      <td>3.155401</td>\n",
       "    </tr>\n",
       "    <tr>\n",
       "      <th>R_SUCOAS</th>\n",
       "      <td>-4.267163</td>\n",
       "      <td>-3.874895</td>\n",
       "      <td>-0.236073</td>\n",
       "      <td>-2.138073</td>\n",
       "      <td>-1.840459</td>\n",
       "      <td>-0.182358</td>\n",
       "      <td>-7.415655</td>\n",
       "      <td>-2.351983</td>\n",
       "    </tr>\n",
       "    <tr>\n",
       "      <th>R_EX_glc__D_e</th>\n",
       "      <td>0.000000</td>\n",
       "      <td>0.000000</td>\n",
       "      <td>0.000000</td>\n",
       "      <td>-9.654000</td>\n",
       "      <td>0.000000</td>\n",
       "      <td>0.000000</td>\n",
       "      <td>0.000000</td>\n",
       "      <td>0.000000</td>\n",
       "    </tr>\n",
       "  </tbody>\n",
       "</table>\n",
       "</div>"
      ],
      "text/plain": [
       "                Acetate  Fructose  Galactose   Glucose  Glycerol  Gluconate  \\\n",
       "R_GND          2.586719  6.171283   0.418682  2.832284  3.411510   1.464963   \n",
       "R_EX_succ_e    0.000000  0.000000   0.000000  0.000000  0.000000   0.000000   \n",
       "R_CS           8.834019  4.568329   1.520963  2.977971  2.464836   1.154034   \n",
       "R_SUCOAS      -4.267163 -3.874895  -0.236073 -2.138073 -1.840459  -0.182358   \n",
       "R_EX_glc__D_e  0.000000  0.000000   0.000000 -9.654000  0.000000   0.000000   \n",
       "\n",
       "               Pyruvate  Succinate  \n",
       "R_GND          0.876802   4.907821  \n",
       "R_EX_succ_e    0.000000 -15.902000  \n",
       "R_CS           8.081921   3.155401  \n",
       "R_SUCOAS      -7.415655  -2.351983  \n",
       "R_EX_glc__D_e  0.000000   0.000000  "
      ]
     },
     "execution_count": 19,
     "metadata": {},
     "output_type": "execute_result"
    }
   ],
   "source": [
    "import pandas as pd\n",
    "fluxomics = pd.read_csv('../files/gerosa2015.csv', index_col=0)\n",
    "\n",
    "fluxomics.sample(5) # print 5 random entries"
   ]
  },
  {
   "cell_type": "markdown",
   "metadata": {},
   "source": [
    "We will constrain the model using only the respective uptake rate for each substrate and see how well it predicts the growth rate and all the other fluxes.\n",
    "\n",
    "Unfortunately, our model only contains 5 of the 8 substrates used in the paper."
   ]
  },
  {
   "cell_type": "code",
   "execution_count": 20,
   "metadata": {},
   "outputs": [],
   "source": [
    "uptake_reactions = {\n",
    "    'Acetate': 'R_EX_ac_e',\n",
    "    'Fructose': 'R_EX_fru_e',\n",
    "    'Glucose': 'R_EX_glc__D_e',\n",
    "    'Pyruvate': 'R_EX_pyr_e',\n",
    "    'Succinate': 'R_EX_succ_e',\n",
    "}\n",
    "\n",
    "growth_rates = {\n",
    "    'Acetate': 0.29,\n",
    "    'Fructose': 0.49,\n",
    "    'Glucose': 0.65,\n",
    "    'Pyruvate': 0.39,\n",
    "    'Succinate': 0.51,\n",
    "}"
   ]
  },
  {
   "cell_type": "markdown",
   "metadata": {},
   "source": [
    "We need to remove glucose from the pre-defined medium, by setting the lower bound of the exchange reaction to zero: "
   ]
  },
  {
   "cell_type": "code",
   "execution_count": 12,
   "metadata": {},
   "outputs": [],
   "source": [
    "model.reactions.R_EX_glc__D_e.lb = 0"
   ]
  },
  {
   "cell_type": "markdown",
   "metadata": {},
   "source": [
    "Now let's run simulations for all the five conditions. \n",
    "\n",
    "> The code below might look a bit complicated. Don't worry about that for now."
   ]
  },
  {
   "cell_type": "code",
   "execution_count": 21,
   "metadata": {},
   "outputs": [
    {
     "name": "stdout",
     "output_type": "stream",
     "text": [
      "Condition \tGrowth \tPredicted\n",
      "Acetate \t0.29 \t0.25\n",
      "Fructose \t0.49 \t0.72\n",
      "Glucose \t0.65 \t0.84\n",
      "Pyruvate \t0.39 \t0.84\n",
      "Succinate \t0.51 \t0.66\n"
     ]
    }
   ],
   "source": [
    "simulated = {}\n",
    "print('Condition \\tGrowth \\tPredicted')\n",
    "\n",
    "for condition, rxn_id in uptake_reactions.items():\n",
    "    uptake_rate = fluxomics.loc[rxn_id, condition]\n",
    "    solution = FBA(model, constraints={rxn_id: uptake_rate})\n",
    "    simulated[f'{condition}_sim'] = solution.values\n",
    "    print(f'{condition} \\t{growth_rates[condition]} \\t{solution.fobj:.2f}')\n",
    "    \n",
    "combined = pd.concat([fluxomics, pd.DataFrame(simulated)], axis=1, join='inner')"
   ]
  },
  {
   "cell_type": "markdown",
   "metadata": {},
   "source": [
    "It seems that, in general, the model predicted higher growth rates than what was measured. \n",
    "\n",
    "> Why do you think this has happened?\n",
    "\n",
    "One of the limitations of FBA is that it does not predict overflow metabolism, unless we explicitly add additional constraints.\n",
    "\n",
    "So let's now additionally constrain the acetate secretion rate as well and see if our predictions improve."
   ]
  },
  {
   "cell_type": "code",
   "execution_count": 26,
   "metadata": {},
   "outputs": [
    {
     "name": "stdout",
     "output_type": "stream",
     "text": [
      "Condition \tGrowth \tPredicted\n",
      "Acetate \t0.29 \t0.25\n",
      "Fructose \t0.49 \t0.64\n",
      "Glucose \t0.65 \t0.69\n",
      "Pyruvate \t0.39 \t0.58\n",
      "Succinate \t0.51 \t0.58\n"
     ]
    }
   ],
   "source": [
    "simulated = {}\n",
    "print('Condition \\tGrowth \\tPredicted')\n",
    "\n",
    "for condition, rxn_id in uptake_reactions.items():\n",
    "    constraints = {\n",
    "        rxn_id: fluxomics.loc[rxn_id, condition],\n",
    "        'R_EX_ac_e': fluxomics.loc['R_EX_ac_e', condition],\n",
    "    }\n",
    "    solution = FBA(model, constraints=constraints)\n",
    "    simulated[f'{condition}_sim'] = solution.values\n",
    "    print(f'{condition} \\t{growth_rates[condition]} \\t{solution.fobj:.2f}')\n",
    "    \n",
    "combined2 = pd.concat([fluxomics, pd.DataFrame(simulated)], axis=1, join='inner')"
   ]
  },
  {
   "cell_type": "markdown",
   "metadata": {},
   "source": [
    "There is some improvement in the prediction of growth rates. But what about the fluxes? \n",
    "How well are they predicted, and does this also improve when we constrain acetate secretion?\n",
    "\n",
    "The code below plots measured vs predicted fluxes, before and after constraining acetate secretion."
   ]
  },
  {
   "cell_type": "code",
   "execution_count": 25,
   "metadata": {},
   "outputs": [
    {
     "data": {
      "image/png": "[encoded data removed]",
      "text/plain": [
       "<Figure size 1080x432 with 10 Axes>"
      ]
     },
     "metadata": {
      "needs_background": "light"
     },
     "output_type": "display_data"
    }
   ],
   "source": [
    "import matplotlib.pyplot as plt\n",
    "\n",
    "fig, axs = plt.subplots(2, 5, figsize=(15, 6))\n",
    "\n",
    "for i, condition in enumerate(uptake_reactions):\n",
    "    combined.plot.scatter(condition, f'{condition}_sim', ax=axs[0,i])\n",
    "    axs[0,i].plot([-20, 20], [-20, 20], 'k--', alpha=0.3)\n",
    "    \n",
    "    combined2.plot.scatter(condition, f'{condition}_sim', ax=axs[1,i])\n",
    "    axs[1,i].plot([-20, 20], [-20, 20], 'k--', alpha=0.3)\n",
    "\n",
    "fig.tight_layout()"
   ]
  },
  {
   "cell_type": "markdown",
   "metadata": {},
   "source": [
    "You have reached the end of this tutorial. Feel free to go back and try different things."
   ]
  },
  {
   "cell_type": "code",
   "execution_count": null,
   "metadata": {},
   "outputs": [],
   "source": []
  }
 ],
 "metadata": {
  "kernelspec": {
   "display_name": "Python 3",
   "language": "python",
   "name": "python3"
  },
  "language_info": {
   "codemirror_mode": {
    "name": "ipython",
    "version": 3
   },
   "file_extension": ".py",
   "mimetype": "text/x-python",
   "name": "python",
   "nbconvert_exporter": "python",
   "pygments_lexer": "ipython3",
   "version": "3.8.8"
  }
 },
 "nbformat": 4,
 "nbformat_minor": 4
}
